{
 "cells": [
  {
   "cell_type": "code",
   "execution_count": 1,
   "metadata": {
    "collapsed": true
   },
   "outputs": [],
   "source": [
    "%matplotlib inline"
   ]
  },
  {
   "cell_type": "code",
   "execution_count": 2,
   "metadata": {
    "collapsed": true
   },
   "outputs": [],
   "source": [
    "from __future__ import division\n",
    "\n",
    "import numpy as np\n",
    "import matplotlib.pyplot as plt\n",
    "\n",
    "plt.style.use('bmh')\n",
    "plt.rcParams['xtick.labelsize'] = 'large'\n",
    "plt.rcParams['ytick.labelsize'] = 'large'\n",
    "plt.rcParams['figure.figsize'] = '7, 5'"
   ]
  },
  {
   "cell_type": "code",
   "execution_count": 3,
   "metadata": {
    "collapsed": true
   },
   "outputs": [],
   "source": [
    "def make_figure_axes(x, y, fig_number=1, fig_size=8):\n",
    "    '''\n",
    "    Creates a set of 3 axes to plot 2D function + marginals\n",
    "    '''\n",
    "    # determine max size\n",
    "    size_x = x.max() - x.min()\n",
    "    size_y = y.max() - y.min()\n",
    "    max_size = max(size_x, size_y)\n",
    "    min_size = min(size_x, size_y)\n",
    "\n",
    "    if size_x >= size_y:\n",
    "        fig_size_x = fig_size\n",
    "        fig_size_y = (0.12 * fig_size_x +\n",
    "                      0.65 * fig_size_x * min_size / max_size +\n",
    "                      0.02 * fig_size_x +\n",
    "                      0.18 * fig_size_x +\n",
    "                      0.03 * fig_size_x)\n",
    "        rect_main = [0.12,\n",
    "                     0.12 * fig_size_x / fig_size_y,\n",
    "                     0.65,\n",
    "                     0.65 * fig_size_x * min_size / max_size / fig_size_y]\n",
    "        rect_x = [0.12, ((0.12 + 0.65 * min_size / max_size + 0.02) *\n",
    "                         fig_size_x / fig_size_y),\n",
    "                  0.65, 0.18 * fig_size_x / fig_size_y]\n",
    "        rect_y = [0.79, 0.12 * fig_size_x / fig_size_y,\n",
    "                  0.18, 0.65 * fig_size_x * min_size / max_size / fig_size_y]\n",
    "    else:\n",
    "        fig_size_y = fig_size\n",
    "        fig_size_x = (0.12 * fig_size_y +\n",
    "                      0.65 * fig_size_y * min_size / max_size +\n",
    "                      0.02 * fig_size_y +\n",
    "                      0.18 * fig_size_y +\n",
    "                      0.03 * fig_size_y)\n",
    "        rect_main = [0.12 * fig_size_y / fig_size_x,\n",
    "                     0.12,\n",
    "                     0.65 * fig_size_y * min_size / max_size / fig_size_x,\n",
    "                     0.65]\n",
    "        rect_x = [0.12 * fig_size_y / fig_size_x, 0.79,\n",
    "                  0.65 * fig_size_y * min_size / max_size / fig_size_x, 0.18]\n",
    "        rect_y = [((0.12 + 0.65 * min_size / max_size + 0.02) *\n",
    "                   fig_size_y / fig_size_x), 0.12,\n",
    "                  0.18 * fig_size_y / fig_size_x, 0.65]\n",
    "\n",
    "    fig = plt.figure(fig_number, figsize=(fig_size_x, fig_size_y))\n",
    "    fig.clf()\n",
    "\n",
    "    ax_main = fig.add_axes(rect_main)\n",
    "    ax_marginal_x = fig.add_axes(rect_x, xticklabels=[])\n",
    "    ax_marginal_y = fig.add_axes(rect_y, yticklabels=[])\n",
    "\n",
    "    return ax_main, ax_marginal_x, ax_marginal_y\n",
    "\n",
    "\n",
    "def plot_distribution(x, y, z, cmap='viridis'):\n",
    "    x_limits = (x.min(), x.max())\n",
    "    y_limits = (y.min(), y.max())\n",
    "\n",
    "    ax_main, ax_marginal_x, ax_marginal_y = make_figure_axes(x, y)\n",
    "    ax_main.pcolormesh(x, y, z, cmap=cmap)\n",
    "\n",
    "    marginal_x = np.sum(z, axis=1)\n",
    "    ax_marginal_x.plot(x[:,0], marginal_x)\n",
    "    [l.set_rotation(-90) for l in ax_marginal_y.get_xticklabels()]\n",
    "\n",
    "    marginal_y = np.sum(z, axis=0)\n",
    "    ax_marginal_y.plot(marginal_y, y[0])\n",
    "\n",
    "    ax_main.set_xlim(x_limits)\n",
    "    ax_main.set_ylim(y_limits)\n",
    "\n",
    "    ax_marginal_x.set_xlim(x_limits)\n",
    "    ax_marginal_y.set_ylim(y_limits)\n",
    "    return ax_main, ax_marginal_x, ax_marginal_y"
   ]
  },
  {
   "cell_type": "markdown",
   "metadata": {},
   "source": [
    "# Generaremos datos de un polinomio de orden 1\n",
    "\n",
    "Un fit simple de orden 2 se muestra en la figura. Al aumentar el orden del polinomio, estamos aumentando los grados de libertad del modelo, por lo que es mas facil obtener un mejor fit, en el sentido de que si $\\chi^2$ sera menor. En el caso extremo, si fiteamos un polinomio de orden `m`, para un set de `m` datos, $\\chi^2$ sera cero."
   ]
  },
  {
   "cell_type": "code",
   "execution_count": 4,
   "metadata": {
    "collapsed": false
   },
   "outputs": [
    {
     "data": {
      "text/plain": [
       "[<matplotlib.lines.Line2D at 0x108959b10>]"
      ]
     },
     "execution_count": 4,
     "metadata": {},
     "output_type": "execute_result"
    },
    {
     "data": {
      "image/png": "[encoded data removed]",
      "text/plain": [
       "<matplotlib.figure.Figure at 0x1088a7090>"
      ]
     },
     "metadata": {},
     "output_type": "display_data"
    }
   ],
   "source": [
    "coefs = [9, -21]\n",
    "N_sample = 30\n",
    "\n",
    "np.random.seed(43)\n",
    "x_data = np.random.uniform(2, 5., size=N_sample)\n",
    "y_data = coefs[0] * x_data + coefs[1] + np.random.normal(0, 1.5, size=N_sample)\n",
    "plt.plot(x_data, y_data, 'x', mew=2.)\n",
    "\n",
    "plt.plot(np.linspace(2, 5, 100), np.polyval(coefs, np.linspace(2, 5, 100)))\n",
    "\n",
    "p_orden2 = np.polyfit(x_data, y_data, 2)\n",
    "plt.plot(np.linspace(2, 5, 100), np.polyval(p_orden2, np.linspace(2, 5, 100)))"
   ]
  },
  {
   "cell_type": "code",
   "execution_count": 5,
   "metadata": {
    "collapsed": false
   },
   "outputs": [
    {
     "name": "stdout",
     "output_type": "stream",
     "text": [
      "Los coeficientes del polinomio de orden 2 son:  [  0.84255639   3.58224871 -12.55600983]\n"
     ]
    }
   ],
   "source": [
    "print \"Los coeficientes del polinomio de orden 2 son: \", p_orden2"
   ]
  },
  {
   "cell_type": "markdown",
   "metadata": {},
   "source": [
    "# Calculemos la verosimilitud de un fit polinomico de orden 1 vs. de orden 2."
   ]
  },
  {
   "cell_type": "code",
   "execution_count": 6,
   "metadata": {
    "collapsed": false
   },
   "outputs": [],
   "source": [
    "def likelihood(data, pars):\n",
    "    x, y = data\n",
    "    orden = np.sum(pars != 0)\n",
    "    S = np.sum((y - np.polyval(pars, x))**2) / 2 / 1.5**2\n",
    "    L = (2 * np.pi * 1.5**2)**(-orden / 2) * np.exp(-S)\n",
    "    return L\n",
    "\n",
    "def chi2(data, pars):\n",
    "    x, y = data\n",
    "    chi2 = np.sum((y - np.polyval(pars, x))**2)/1.5**2\n",
    "    return chi2"
   ]
  },
  {
   "cell_type": "code",
   "execution_count": 7,
   "metadata": {
    "collapsed": false
   },
   "outputs": [
    {
     "name": "stdout",
     "output_type": "stream",
     "text": [
      "Verosimilitud del modelo de orden 1:  3.45574888074e-08\n",
      "Verosimilitud del modelo de orden 2:  6.3079367444e-08\n",
      "Chi2 para el modelo de orden 1:  29.0636685497\n",
      "Chi2 para el modelo de orden 2:  25.2113223576\n"
     ]
    }
   ],
   "source": [
    "# fit de orden 1\n",
    "p_orden1 = np.polyfit(x_data, y_data, 1)\n",
    "print \"Verosimilitud del modelo de orden 1: \", likelihood([x_data, y_data], p_orden1)\n",
    "print \"Verosimilitud del modelo de orden 2: \", likelihood([x_data, y_data], p_orden2)\n",
    "\n",
    "print \"Chi2 para el modelo de orden 1: \", chi2([x_data, y_data], p_orden1)\n",
    "print \"Chi2 para el modelo de orden 2: \", chi2([x_data, y_data], p_orden2)"
   ]
  },
  {
   "cell_type": "markdown",
   "metadata": {},
   "source": [
    "El modelo de orden 2 tiene mayor verosimilitud (es decir, un menor $\\chi^2$), por lo que bajo un analisis de máxima verosimilitud podría parecer un mejor modelo.\n",
    "\n",
    "# Ahora seleccionemos el mejor modelo utilizando seleccion Bayesiana.\n",
    "\n",
    "Lo primero es calcular la probabilidad posterior (no normalizada) para cada uno de los modelos:\n",
    "\n",
    "M1 = polinomio grado 1\n",
    "\n",
    "M2 = polinomio grado 2"
   ]
  },
  {
   "cell_type": "markdown",
   "metadata": {},
   "source": [
    "## Evidence for M1"
   ]
  },
  {
   "cell_type": "code",
   "execution_count": 8,
   "metadata": {
    "collapsed": true
   },
   "outputs": [],
   "source": [
    "def prior(beta, params):\n",
    "    beta0, beta1 = beta\n",
    "    mu0, sigma0, mu1, sigma1 = params\n",
    "    S = -1. / 2 * ((beta0 - mu0)**2 / sigma0**2 + (beta1 - mu1)**2 / sigma1**2)\n",
    "    P = np.exp(S) / (2 * np.pi * sigma0 * sigma1)\n",
    "    return P\n",
    "\n",
    "def likelihood(beta, data):\n",
    "    beta0, beta1 = beta\n",
    "    x, y = data\n",
    "    try:\n",
    "        N = len(x)\n",
    "    except:\n",
    "        N = 1\n",
    "    S = np.sum((y - beta1 - beta0 * x)**2)\n",
    "    L = (2 * np.pi * 1.5**2)**(-N / 2.) * np.exp(-S / 2 / 1.5**2)\n",
    "    return L"
   ]
  },
  {
   "cell_type": "code",
   "execution_count": 9,
   "metadata": {
    "collapsed": true
   },
   "outputs": [],
   "source": [
    "beta0_grid, beta1_grid = np.mgrid[5:15:201j, -30:-15:201j]\n",
    "n0, n1 = beta0_grid.shape\n",
    "prior_m1 = np.zeros((n0, n1))\n",
    "likelihood_m1 = np.zeros((n0, n1))\n",
    "\n",
    "for i in range(n0):\n",
    "    for j in range(n1):\n",
    "        prior_m1[i, j] = prior([beta0_grid[i, j], beta1_grid[i, j]], [10, 20, -20, 20])\n",
    "        likelihood_m1[i, j] = likelihood([beta0_grid[i, j], beta1_grid[i, j]], [x_data, y_data])"
   ]
  },
  {
   "cell_type": "code",
   "execution_count": 10,
   "metadata": {
    "collapsed": false
   },
   "outputs": [
    {
     "data": {
      "text/plain": [
       "(<matplotlib.axes._axes.Axes at 0x10889aa50>,\n",
       " <matplotlib.axes._axes.Axes at 0x108b62110>,\n",
       " <matplotlib.axes._axes.Axes at 0x108bf7790>)"
      ]
     },
     "execution_count": 10,
     "metadata": {},
     "output_type": "execute_result"
    },
    {
     "data": {
      "image/png": "[encoded data removed]",
      "text/plain": [
       "<matplotlib.figure.Figure at 0x10889a150>"
      ]
     },
     "metadata": {},
     "output_type": "display_data"
    }
   ],
   "source": [
    "plot_distribution(beta0_grid, beta1_grid, prior_m1 * likelihood_m1)"
   ]
  },
  {
   "cell_type": "code",
   "execution_count": 11,
   "metadata": {
    "collapsed": false
   },
   "outputs": [
    {
     "name": "stdout",
     "output_type": "stream",
     "text": [
      "P(D|M1) =  1.11188583931e-27\n"
     ]
    }
   ],
   "source": [
    "dx = 20 / 200\n",
    "dy = 15 / 200\n",
    "P_E_M1 = np.sum(prior_m1 * likelihood_m1) * dx * dy\n",
    "print 'P(D|M1) = ', P_E_M1"
   ]
  },
  {
   "cell_type": "markdown",
   "metadata": {},
   "source": [
    "## Evidence for M2"
   ]
  },
  {
   "cell_type": "code",
   "execution_count": 12,
   "metadata": {
    "collapsed": true
   },
   "outputs": [],
   "source": [
    "def prior(beta, params):\n",
    "    beta0, beta1, beta2 = beta\n",
    "    mu0, sigma0, mu1, sigma1, mu2, sigma2 = params\n",
    "    S = -1. / 2 * ((beta0 - mu0)**2 / sigma0**2 + (beta1 - mu1)**2 / sigma1**2 + (beta2 - mu2)**2 / sigma2**2)\n",
    "    P = np.exp(S) / ((2 * np.pi)**(3/2) * sigma0 * sigma1 * sigma2)\n",
    "    return P\n",
    "\n",
    "def likelihood(beta, data):\n",
    "    beta0, beta1, beta2 = beta\n",
    "    x, y = data\n",
    "    try:\n",
    "        N = len(x)\n",
    "    except:\n",
    "        N = 1\n",
    "    S = np.sum((y - beta2 - beta1 * x - beta0 * x**2)**2)\n",
    "    L = (2 * np.pi * 1.5**2)**(-N / 2.) * np.exp(-S / 2 / 1.5**2)\n",
    "    return L"
   ]
  },
  {
   "cell_type": "markdown",
   "metadata": {},
   "source": [
    "### La siguiente celda demora mucho en correr, es por problemas como este que se recurre a metodos MCMC para hacer las integraciones."
   ]
  },
  {
   "cell_type": "code",
   "execution_count": 20,
   "metadata": {
    "collapsed": false
   },
   "outputs": [
    {
     "name": "stdout",
     "output_type": "stream",
     "text": [
      "1 loop, best of 3: 2min 22s per loop\n"
     ]
    }
   ],
   "source": [
    "%%timeit -n1\n",
    "beta0_grid, beta1_grid, beta2_grid = np.mgrid[-5:6:201j, -10:15:201j, -30:5:201j]\n",
    "n0, n1, n2 = beta0_grid.shape\n",
    "prior_m2 = np.zeros((n0, n1, n2))\n",
    "likelihood_m2 = np.zeros((n0, n1, n2))\n",
    "\n",
    "for i in range(n0):\n",
    "    for j in range(n1):\n",
    "        for k in range(n2):\n",
    "            prior_m2[i, j, k] = prior([beta0_grid[i, j, k], beta1_grid[i, j, k], beta2_grid[i, j, k]], [1, 20, 10, 20, -10, 20])\n",
    "            likelihood_m2[i, j, k] = likelihood([beta0_grid[i, j, k], beta1_grid[i, j, k], beta2_grid[i, j, k]], [x_data, y_data])"
   ]
  },
  {
   "cell_type": "markdown",
   "metadata": {},
   "source": [
    "## Ploteamos una proyeccion"
   ]
  },
  {
   "cell_type": "code",
   "execution_count": 16,
   "metadata": {
    "collapsed": false
   },
   "outputs": [
    {
     "data": {
      "text/plain": [
       "(<matplotlib.axes._axes.Axes at 0x114d36450>,\n",
       " <matplotlib.axes._axes.Axes at 0x13000f310>,\n",
       " <matplotlib.axes._axes.Axes at 0x133e8a750>)"
      ]
     },
     "execution_count": 16,
     "metadata": {},
     "output_type": "execute_result"
    },
    {
     "data": {
      "image/png": "[encoded data removed]",
      "text/plain": [
       "<matplotlib.figure.Figure at 0x114d65e10>"
      ]
     },
     "metadata": {},
     "output_type": "display_data"
    }
   ],
   "source": [
    "post_m2 = prior_m2 * likelihood_m2\n",
    "plot_distribution(beta1_grid[0], beta2_grid[0], np.sum(post_m2, axis=0))"
   ]
  },
  {
   "cell_type": "code",
   "execution_count": 17,
   "metadata": {
    "collapsed": false
   },
   "outputs": [
    {
     "name": "stdout",
     "output_type": "stream",
     "text": [
      "P(D|M2) =  7.45869526549e-29\n"
     ]
    }
   ],
   "source": [
    "dx = 11 / 200\n",
    "dy = 25 / 200\n",
    "dz = 35 / 200\n",
    "P_E_M2 = np.sum(post_m2) * dx * dy * dz\n",
    "print 'P(D|M2) = ', P_E_M2"
   ]
  },
  {
   "cell_type": "markdown",
   "metadata": {},
   "source": [
    "# El Factor Bayesiano:"
   ]
  },
  {
   "cell_type": "code",
   "execution_count": 18,
   "metadata": {
    "collapsed": false
   },
   "outputs": [
    {
     "name": "stdout",
     "output_type": "stream",
     "text": [
      "P(D|M1) / P(D|M2) =  14.9072431535\n"
     ]
    }
   ],
   "source": [
    "print 'P(D|M1) / P(D|M2) = ', P_E_M1 / P_E_M2"
   ]
  },
  {
   "cell_type": "markdown",
   "metadata": {},
   "source": [
    "es decir, a pesar de que el modelo tiene mas grados de libertad, la probabilidad de que sea el modelo a preferir es menor que para el modelo mas simple. Esto es debido a la penalizacion que se impone por tener mas parametros.\n",
    "\n",
    "# Apendice de Jeffreys (1961)\n",
    "\n",
    "### (Notar que la null hypothesis, es que se prefiere M1 sobre M2, es decir, lo que concluimos)\n",
    "\n",
    "K > 1 ⇒ “Null hypothesis supported.”\n",
    "\n",
    "K < 1 ⇒ “Not worth more than bare mention.”\n",
    "\n",
    "K < 1/$\\sqrt{10}$ ⇒ “Evidence against H0 substantial.”\n",
    "\n",
    "K < 1/10 ⇒ “strong”\n",
    "\n",
    "K < 1/10<sup>3/2</sup> ⇒ “very strong”\n",
    "\n",
    "K < 1/100 ⇒ “Evidence against H0 decisive.”"
   ]
  },
  {
   "cell_type": "code",
   "execution_count": null,
   "metadata": {
    "collapsed": true
   },
   "outputs": [],
   "source": []
  }
 ],
 "metadata": {
  "kernelspec": {
   "display_name": "Python 2",
   "language": "python",
   "name": "python2"
  },
  "language_info": {
   "codemirror_mode": {
    "name": "ipython",
    "version": 2
   },
   "file_extension": ".py",
   "mimetype": "text/x-python",
   "name": "python",
   "nbconvert_exporter": "python",
   "pygments_lexer": "ipython2",
   "version": "2.7.11"
  }
 },
 "nbformat": 4,
 "nbformat_minor": 0
}
